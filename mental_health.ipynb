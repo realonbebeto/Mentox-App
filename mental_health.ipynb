{
  "cells": [
    {
      "cell_type": "code",
      "execution_count": null,
      "id": "b28e0910",
      "metadata": {
        "execution": {
          "iopub.execute_input": "2021-12-12T20:14:19.422315Z",
          "iopub.status.busy": "2021-12-12T20:14:19.421675Z",
          "iopub.status.idle": "2021-12-12T20:14:31.148108Z",
          "shell.execute_reply": "2021-12-12T20:14:31.147056Z",
          "shell.execute_reply.started": "2021-12-12T20:10:45.082813Z"
        },
        "id": "b28e0910",
        "papermill": {
          "duration": 11.763321,
          "end_time": "2021-12-12T20:14:31.148281",
          "exception": false,
          "start_time": "2021-12-12T20:14:19.384960",
          "status": "completed"
        },
        "tags": []
      },
      "outputs": [],
      "source": [
        "import sys\n",
        "from numpy import array\n",
        "import tensorflow as tf\n",
        "from tensorflow.keras.preprocessing.text import one_hot, Tokenizer\n",
        "from tensorflow.keras.preprocessing.sequence import pad_sequences\n",
        "from tensorflow.keras.models import Model, Sequential\n",
        "from tensorflow.keras.layers import Activation, Concatenate, Dropout, Dense, Embedding, Flatten, GlobalMaxPooling1D, Input, LSTM, Bidirectional\n",
        "from sklearn.model_selection import train_test_split\n",
        "import spacy\n",
        "from spacy.lang.en import English\n",
        "import string\n",
        "import emoji\n",
        "\n",
        "import pandas as pd\n",
        "import numpy as np\n",
        "import re\n",
        "import pickle\n",
        "\n",
        "import matplotlib.pyplot as plt"
      ]
    },
    {
      "cell_type": "code",
      "execution_count": null,
      "id": "6a872956",
      "metadata": {
        "execution": {
          "iopub.execute_input": "2021-12-12T20:14:31.198328Z",
          "iopub.status.busy": "2021-12-12T20:14:31.197457Z",
          "iopub.status.idle": "2021-12-12T20:14:31.200349Z",
          "shell.execute_reply": "2021-12-12T20:14:31.199761Z",
          "shell.execute_reply.started": "2021-12-12T20:10:56.690652Z"
        },
        "id": "6a872956",
        "papermill": {
          "duration": 0.027741,
          "end_time": "2021-12-12T20:14:31.200486",
          "exception": false,
          "start_time": "2021-12-12T20:14:31.172745",
          "status": "completed"
        },
        "tags": []
      },
      "outputs": [],
      "source": [
        "#from google.colab import drive\n",
        "#drive.mount('/content/drive')"
      ]
    },
    {
      "cell_type": "code",
      "execution_count": null,
      "id": "94271779",
      "metadata": {
        "execution": {
          "iopub.execute_input": "2021-12-12T20:14:31.246501Z",
          "iopub.status.busy": "2021-12-12T20:14:31.245917Z",
          "iopub.status.idle": "2021-12-12T20:14:31.479134Z",
          "shell.execute_reply": "2021-12-12T20:14:31.479924Z",
          "shell.execute_reply.started": "2021-12-12T20:10:56.696928Z"
        },
        "id": "94271779",
        "papermill": {
          "duration": 0.259013,
          "end_time": "2021-12-12T20:14:31.480100",
          "exception": false,
          "start_time": "2021-12-12T20:14:31.221087",
          "status": "completed"
        },
        "tags": []
      },
      "outputs": [],
      "source": [
        "data = pd.read_csv('../input/goemotions/nlpc.csv')"
      ]
    },
    {
      "cell_type": "code",
      "execution_count": null,
      "id": "25c43bdf",
      "metadata": {
        "execution": {
          "iopub.execute_input": "2021-12-12T20:14:31.527028Z",
          "iopub.status.busy": "2021-12-12T20:14:31.526239Z",
          "iopub.status.idle": "2021-12-12T20:14:31.539342Z",
          "shell.execute_reply": "2021-12-12T20:14:31.539812Z",
          "shell.execute_reply.started": "2021-12-12T20:10:56.979161Z"
        },
        "id": "25c43bdf",
        "outputId": "42bd7b8f-ab38-461c-fbba-1f9142339c4d",
        "papermill": {
          "duration": 0.040251,
          "end_time": "2021-12-12T20:14:31.539950",
          "exception": false,
          "start_time": "2021-12-12T20:14:31.499699",
          "status": "completed"
        },
        "tags": []
      },
      "outputs": [
        {
          "data": {
            "text/html": [
              "<div>\n",
              "<style scoped>\n",
              "    .dataframe tbody tr th:only-of-type {\n",
              "        vertical-align: middle;\n",
              "    }\n",
              "\n",
              "    .dataframe tbody tr th {\n",
              "        vertical-align: top;\n",
              "    }\n",
              "\n",
              "    .dataframe thead th {\n",
              "        text-align: right;\n",
              "    }\n",
              "</style>\n",
              "<table border=\"1\" class=\"dataframe\">\n",
              "  <thead>\n",
              "    <tr style=\"text-align: right;\">\n",
              "      <th></th>\n",
              "      <th>text</th>\n",
              "      <th>anger</th>\n",
              "      <th>disgust</th>\n",
              "      <th>fear</th>\n",
              "      <th>joy</th>\n",
              "      <th>sadness</th>\n",
              "      <th>surprise</th>\n",
              "      <th>neutral</th>\n",
              "    </tr>\n",
              "  </thead>\n",
              "  <tbody>\n",
              "    <tr>\n",
              "      <th>0</th>\n",
              "      <td>That game hurt.</td>\n",
              "      <td>0</td>\n",
              "      <td>0</td>\n",
              "      <td>0</td>\n",
              "      <td>0</td>\n",
              "      <td>1</td>\n",
              "      <td>0</td>\n",
              "      <td>0</td>\n",
              "    </tr>\n",
              "    <tr>\n",
              "      <th>1</th>\n",
              "      <td>&gt;sexuality shouldn’t be a grouping category I...</td>\n",
              "      <td>0</td>\n",
              "      <td>0</td>\n",
              "      <td>0</td>\n",
              "      <td>0</td>\n",
              "      <td>0</td>\n",
              "      <td>0</td>\n",
              "      <td>0</td>\n",
              "    </tr>\n",
              "    <tr>\n",
              "      <th>2</th>\n",
              "      <td>You do right, if you don't care then fuck 'em!</td>\n",
              "      <td>0</td>\n",
              "      <td>0</td>\n",
              "      <td>0</td>\n",
              "      <td>0</td>\n",
              "      <td>0</td>\n",
              "      <td>0</td>\n",
              "      <td>1</td>\n",
              "    </tr>\n",
              "    <tr>\n",
              "      <th>3</th>\n",
              "      <td>Man I love reddit.</td>\n",
              "      <td>0</td>\n",
              "      <td>0</td>\n",
              "      <td>0</td>\n",
              "      <td>1</td>\n",
              "      <td>0</td>\n",
              "      <td>0</td>\n",
              "      <td>0</td>\n",
              "    </tr>\n",
              "    <tr>\n",
              "      <th>4</th>\n",
              "      <td>[NAME] was nowhere near them, he was by the Fa...</td>\n",
              "      <td>0</td>\n",
              "      <td>0</td>\n",
              "      <td>0</td>\n",
              "      <td>0</td>\n",
              "      <td>0</td>\n",
              "      <td>0</td>\n",
              "      <td>1</td>\n",
              "    </tr>\n",
              "  </tbody>\n",
              "</table>\n",
              "</div>"
            ],
            "text/plain": [
              "                                                text  anger  disgust  fear  \\\n",
              "0                                    That game hurt.      0        0     0   \n",
              "1   >sexuality shouldn’t be a grouping category I...      0        0     0   \n",
              "2     You do right, if you don't care then fuck 'em!      0        0     0   \n",
              "3                                 Man I love reddit.      0        0     0   \n",
              "4  [NAME] was nowhere near them, he was by the Fa...      0        0     0   \n",
              "\n",
              "   joy  sadness  surprise  neutral  \n",
              "0    0        1         0        0  \n",
              "1    0        0         0        0  \n",
              "2    0        0         0        1  \n",
              "3    1        0         0        0  \n",
              "4    0        0         0        1  "
            ]
          },
          "execution_count": 4,
          "metadata": {},
          "output_type": "execute_result"
        }
      ],
      "source": [
        "data.head()"
      ]
    },
    {
      "cell_type": "code",
      "execution_count": null,
      "id": "af4e9eda",
      "metadata": {
        "execution": {
          "iopub.execute_input": "2021-12-12T20:14:31.591201Z",
          "iopub.status.busy": "2021-12-12T20:14:31.590446Z",
          "iopub.status.idle": "2021-12-12T20:14:31.596594Z",
          "shell.execute_reply": "2021-12-12T20:14:31.596164Z",
          "shell.execute_reply.started": "2021-12-12T20:10:57.002013Z"
        },
        "id": "af4e9eda",
        "outputId": "c6edefb0-2d8e-42cf-fc40-ce15d1bac665",
        "papermill": {
          "duration": 0.036543,
          "end_time": "2021-12-12T20:14:31.596716",
          "exception": false,
          "start_time": "2021-12-12T20:14:31.560173",
          "status": "completed"
        },
        "tags": []
      },
      "outputs": [
        {
          "data": {
            "text/plain": [
              "text        0\n",
              "anger       0\n",
              "disgust     0\n",
              "fear        0\n",
              "joy         0\n",
              "sadness     0\n",
              "surprise    0\n",
              "neutral     0\n",
              "dtype: int64"
            ]
          },
          "execution_count": 5,
          "metadata": {},
          "output_type": "execute_result"
        }
      ],
      "source": [
        "data.isna().sum()"
      ]
    },
    {
      "cell_type": "code",
      "execution_count": null,
      "id": "6d5ba0e2",
      "metadata": {
        "execution": {
          "iopub.execute_input": "2021-12-12T20:14:31.680996Z",
          "iopub.status.busy": "2021-12-12T20:14:31.680084Z",
          "iopub.status.idle": "2021-12-12T20:14:31.691079Z",
          "shell.execute_reply": "2021-12-12T20:14:31.691653Z",
          "shell.execute_reply.started": "2021-12-12T20:13:32.702559Z"
        },
        "id": "6d5ba0e2",
        "outputId": "4473b170-856e-4d45-c54a-a35a65c4457c",
        "papermill": {
          "duration": 0.063858,
          "end_time": "2021-12-12T20:14:31.691884",
          "exception": false,
          "start_time": "2021-12-12T20:14:31.628026",
          "status": "completed"
        },
        "tags": []
      },
      "outputs": [
        {
          "data": {
            "text/plain": [
              "8"
            ]
          },
          "execution_count": 6,
          "metadata": {},
          "output_type": "execute_result"
        }
      ],
      "source": [
        "len(data.columns)"
      ]
    },
    {
      "cell_type": "code",
      "execution_count": null,
      "id": "4c07838a",
      "metadata": {
        "execution": {
          "iopub.execute_input": "2021-12-12T20:14:31.778546Z",
          "iopub.status.busy": "2021-12-12T20:14:31.768467Z",
          "iopub.status.idle": "2021-12-12T20:14:31.784418Z",
          "shell.execute_reply": "2021-12-12T20:14:31.785521Z",
          "shell.execute_reply.started": "2021-12-12T20:11:52.713262Z"
        },
        "id": "4c07838a",
        "papermill": {
          "duration": 0.055953,
          "end_time": "2021-12-12T20:14:31.785756",
          "exception": false,
          "start_time": "2021-12-12T20:14:31.729803",
          "status": "completed"
        },
        "tags": []
      },
      "outputs": [],
      "source": [
        "labels = data[['anger', 'disgust', 'fear', 'joy', 'sadness', 'surprise', 'neutral']]\n",
        "labels = labels.astype('float')"
      ]
    },
    {
      "cell_type": "code",
      "execution_count": null,
      "id": "84282a58",
      "metadata": {
        "execution": {
          "iopub.execute_input": "2021-12-12T20:14:31.886171Z",
          "iopub.status.busy": "2021-12-12T20:14:31.885343Z",
          "iopub.status.idle": "2021-12-12T20:14:32.248373Z",
          "shell.execute_reply": "2021-12-12T20:14:32.248856Z",
          "shell.execute_reply.started": "2021-12-11T08:36:15.679431Z"
        },
        "id": "84282a58",
        "papermill": {
          "duration": 0.410942,
          "end_time": "2021-12-12T20:14:32.249034",
          "exception": false,
          "start_time": "2021-12-12T20:14:31.838092",
          "status": "completed"
        },
        "tags": []
      },
      "outputs": [],
      "source": [
        "nlp = English()"
      ]
    },
    {
      "cell_type": "code",
      "execution_count": null,
      "id": "2e2ff045",
      "metadata": {
        "execution": {
          "iopub.execute_input": "2021-12-12T20:14:32.314906Z",
          "iopub.status.busy": "2021-12-12T20:14:32.313136Z",
          "iopub.status.idle": "2021-12-12T20:14:32.315515Z",
          "shell.execute_reply": "2021-12-12T20:14:32.315919Z",
          "shell.execute_reply.started": "2021-12-11T08:36:15.923836Z"
        },
        "id": "2e2ff045",
        "papermill": {
          "duration": 0.046395,
          "end_time": "2021-12-12T20:14:32.316042",
          "exception": false,
          "start_time": "2021-12-12T20:14:32.269647",
          "status": "completed"
        },
        "tags": []
      },
      "outputs": [],
      "source": [
        "contraction_mapping = {\"ain't\": \"is not\", \"aren't\": \"are not\",\"can't\": \"cannot\", \"'cause\": \"because\", \"could've\": \"could have\", \"couldn't\": \"could not\", \n",
        "                       \"didn't\": \"did not\",  \"doesn't\": \"does not\", \"don't\": \"do not\", \"hadn't\": \"had not\", \"hasn't\": \"has not\", \"haven't\": \"have not\", \n",
        "                       \"he'd\": \"he would\",\"he'll\": \"he will\", \"he's\": \"he is\", \"how'd\": \"how did\", \"how'd'y\": \"how do you\", \"how'll\": \"how will\", \n",
        "                       \"how's\": \"how is\",  \"I'd\": \"I would\", \"I'd've\": \"I would have\", \"I'll\": \"I will\", \"I'll've\": \"I will have\",\"I'm\": \"I am\",\n",
        "                       \"I've\": \"I have\", \"i'd\": \"i would\", \"i'd've\": \"i would have\", \"i'll\": \"i will\",  \"i'll've\": \"i will have\",\"i'm\": \"i am\", \n",
        "                       \"i've\": \"i have\", \"isn't\": \"is not\", \"it'd\": \"it would\", \"it'd've\": \"it would have\", \"it'll\": \"it will\", \"it'll've\": \"it will have\",\n",
        "                       \"it's\": \"it is\", \"let's\": \"let us\", \"ma'am\": \"madam\", \"mayn't\": \"may not\", \"might've\": \"might have\",\"mightn't\": \"might not\",\n",
        "                       \"mightn't've\": \"might not have\", \"must've\": \"must have\", \"mustn't\": \"must not\", \"mustn't've\": \"must not have\", \"needn't\": \"need not\", \n",
        "                       \"needn't've\": \"need not have\",\"o'clock\": \"of the clock\", \"oughtn't\": \"ought not\", \"oughtn't've\": \"ought not have\", \"shan't\": \"shall not\",\n",
        "                       \"sha'n't\": \"shall not\", \"shan't've\": \"shall not have\", \"she'd\": \"she would\", \"she'd've\": \"she would have\", \"she'll\": \"she will\", \n",
        "                       \"she'll've\": \"she will have\", \"she's\": \"she is\", \"should've\": \"should have\", \"shouldn't\": \"should not\", \"shouldn't've\": \"should not have\",\n",
        "                       \"so've\": \"so have\",\"so's\": \"so as\", \"this's\": \"this is\",\"that'd\": \"that would\", \"that'd've\": \"that would have\", \"that's\": \"that is\",\n",
        "                       \"there'd\": \"there would\", \"there'd've\": \"there would have\", \"there's\": \"there is\", \"here's\": \"here is\",\"they'd\": \"they would\",\n",
        "                       \"they'd've\": \"they would have\", \"they'll\": \"they will\", \"they'll've\": \"they will have\", \"they're\": \"they are\", \"they've\": \"they have\",\n",
        "                       \"to've\": \"to have\", \"wasn't\": \"was not\", \"we'd\": \"we would\", \"we'd've\": \"we would have\", \"we'll\": \"we will\", \"we'll've\": \"we will have\",\n",
        "                       \"we're\": \"we are\", \"we've\": \"we have\", \"weren't\": \"were not\", \"what'll\": \"what will\", \"what'll've\": \"what will have\", \n",
        "                       \"what're\": \"what are\",  \"what's\": \"what is\", \"what've\": \"what have\", \"when's\": \"when is\", \"when've\": \"when have\", \"where'd\": \"where did\",\n",
        "                       \"where's\": \"where is\", \"where've\": \"where have\", \"who'll\": \"who will\", \"who'll've\": \"who will have\", \"who's\": \"who is\", \n",
        "                       \"who've\": \"who have\", \"why's\": \"why is\", \"why've\": \"why have\", \"will've\": \"will have\", \"won't\": \"will not\", \"won't've\": \"will not have\", \n",
        "                       \"would've\": \"would have\", \"wouldn't\": \"would not\", \"wouldn't've\": \"would not have\", \"y'all\": \"you all\", \"y'all'd\": \"you all would\",\n",
        "                       \"y'all'd've\": \"you all would have\",\"y'all're\": \"you all are\",\"y'all've\": \"you all have\",\"you'd\": \"you would\", \"you'd've\": \"you would have\",\n",
        "                       \"you'll\": \"you will\", \"you'll've\": \"you will have\", \"you're\": \"you are\", \"you've\": \"you have\", 'u.s':'america', 'e.g':'for example'}\n",
        "\n",
        "punct = [',', '.', '\"', ':', ')', '(', '-', '!', '?', '|', ';', \"'\", '$', '&', '/', '[', ']', '>', '%', '=', '#', '*', '+', '\\\\', '•',  '~', '@', '£', \n",
        " '·', '_', '{', '}', '©', '^', '®', '`',  '<', '→', '°', '€', '™', '›',  '♥', '←', '×', '§', '″', '′', 'Â', '█', '½', 'à', '…', \n",
        " '“', '★', '”', '–', '●', 'â', '►', '−', '¢', '²', '¬', '░', '¶', '↑', '±', '¿', '▾', '═', '¦', '║', '―', '¥', '▓', '—', '‹', '─', \n",
        " '▒', '：', '¼', '⊕', '▼', '▪', '†', '■', '’', '▀', '¨', '▄', '♫', '☆', 'é', '¯', '♦', '¤', '▲', 'è', '¸', '¾', 'Ã', '⋅', '‘', '∞', \n",
        " '∙', '）', '↓', '、', '│', '（', '»', '，', '♪', '╩', '╚', '³', '・', '╦', '╣', '╔', '╗', '▬', '❤', 'ï', 'Ø', '¹', '≤', '‡', '√', ]\n",
        "\n",
        "punct_mapping = {\"‘\": \"'\", \"₹\": \"e\", \"´\": \"'\", \"°\": \"\", \"€\": \"e\", \"™\": \"tm\", \"√\": \" sqrt \", \"×\": \"x\", \"²\": \"2\", \"—\": \"-\", \"–\": \"-\", \"’\": \"'\", \"_\": \"-\",\n",
        "                 \"`\": \"'\", '“': '\"', '”': '\"', '“': '\"', \"£\": \"e\", '∞': 'infinity', 'θ': 'theta', '÷': '/', 'α': 'alpha', '•': '.', 'à': 'a', '−': '-', \n",
        "                 'β': 'beta', '∅': '', '³': '3', 'π': 'pi', '!':' '}\n",
        "\n",
        "mispell_dict = {'colour': 'color', 'centre': 'center', 'favourite': 'favorite', 'travelling': 'traveling', 'counselling': 'counseling', 'theatre': 'theater',\n",
        "                'cancelled': 'canceled', 'labour': 'labor', 'organisation': 'organization', 'wwii': 'world war 2', 'citicise': 'criticize', 'youtu ': 'youtube ',\n",
        "                'Qoura': 'Quora', 'sallary': 'salary', 'Whta': 'What', 'narcisist': 'narcissist', 'howdo': 'how do', 'whatare': 'what are', 'howcan': 'how can',\n",
        "                'howmuch': 'how much', 'howmany': 'how many', 'whydo': 'why do', 'doI': 'do I', 'theBest': 'the best', 'howdoes': 'how does', \n",
        "                'mastrubation': 'masturbation', 'mastrubate': 'masturbate', \"mastrubating\": 'masturbating', 'pennis': 'penis', 'Etherium': 'Ethereum', \n",
        "                'narcissit': 'narcissist', 'bigdata': 'big data', '2k17': '2017', '2k18': '2018', 'qouta': 'quota', 'exboyfriend': 'ex boyfriend', \n",
        "                'airhostess': 'air hostess', \"whst\": 'what', 'watsapp': 'whatsapp', 'demonitisation': 'demonetization', 'demonitization': 'demonetization',\n",
        "                'demonetisation': 'demonetization'}\n"
      ]
    },
    {
      "cell_type": "code",
      "execution_count": null,
      "id": "352abb4d",
      "metadata": {
        "execution": {
          "iopub.execute_input": "2021-12-12T20:14:32.360985Z",
          "iopub.status.busy": "2021-12-12T20:14:32.360345Z",
          "iopub.status.idle": "2021-12-12T20:14:32.363521Z",
          "shell.execute_reply": "2021-12-12T20:14:32.363041Z",
          "shell.execute_reply.started": "2021-12-11T08:36:15.951117Z"
        },
        "id": "352abb4d",
        "papermill": {
          "duration": 0.027571,
          "end_time": "2021-12-12T20:14:32.363638",
          "exception": false,
          "start_time": "2021-12-12T20:14:32.336067",
          "status": "completed"
        },
        "tags": []
      },
      "outputs": [],
      "source": [
        "def remove_stop(sen):\n",
        "  my_sen = nlp(sen)\n",
        "\n",
        "  token_list = []\n",
        "  for token in my_sen:\n",
        "    token_list.append(token.text)\n",
        "  \n",
        "  filtered_sen = []\n",
        "  for word in token_list:\n",
        "    lexeme = nlp.vocab[word]\n",
        "    if lexeme.is_stop == False:\n",
        "      filtered_sen.append(word)\n",
        "  \n",
        "  return ' '.join(filtered_sen)"
      ]
    },
    {
      "cell_type": "code",
      "execution_count": null,
      "id": "cad8c2d2",
      "metadata": {
        "execution": {
          "iopub.execute_input": "2021-12-12T20:14:32.419116Z",
          "iopub.status.busy": "2021-12-12T20:14:32.418208Z",
          "iopub.status.idle": "2021-12-12T20:14:32.421375Z",
          "shell.execute_reply": "2021-12-12T20:14:32.420971Z",
          "shell.execute_reply.started": "2021-12-11T08:36:15.965103Z"
        },
        "id": "cad8c2d2",
        "papermill": {
          "duration": 0.03761,
          "end_time": "2021-12-12T20:14:32.421492",
          "exception": false,
          "start_time": "2021-12-12T20:14:32.383882",
          "status": "completed"
        },
        "tags": []
      },
      "outputs": [],
      "source": [
        "def clean_text(sen):\n",
        "    '''Clean emoji, Make text lowercase, remove text in square brackets,remove links,remove punctuation\n",
        "    and remove words containing numbers.'''\n",
        "    sentence = emoji.demojize(sen)\n",
        "    \n",
        "    sentence = re.sub(r'\\:(.*?)\\:','',sentence)\n",
        "    sentence = str(sentence).lower()    #Making Text Lowercase\n",
        "    \n",
        "    sentence = re.sub('\\[.*?\\]', '', sentence)\n",
        "    \n",
        "    # Remove numbers\n",
        "    #sentence = re.sub('[0-9]', ' ', sentence)\n",
        "    \n",
        "    # replacing everything with space except (a-z, A-Z, \".\", \"?\", \"!\", \",\", \"'\")\n",
        "    sentence = re.sub(r\"[^a-zA-Z?.!,¿']+\", \" \", sentence)\n",
        "    \n",
        "    # Single character removal\n",
        "    sentence = re.sub(r\"\\s+[a-zA-Z]\\s+\", ' ', sentence)\n",
        "\n",
        "    # Removing multiple spaces\n",
        "    sentence = re.sub(r'\\s+', ' ', sentence)\n",
        "    \n",
        "    return sentence\n",
        "\n",
        "def clean_contractions(text, mapping):\n",
        "    '''Clean contraction using contraction mapping'''    \n",
        "    specials = [\"’\", \"‘\", \"´\", \"`\"]\n",
        "    for s in specials:\n",
        "        text = text.replace(s, \"'\")\n",
        "    for word in mapping.keys():\n",
        "        if \"\"+word+\"\" in text:\n",
        "            text = text.replace(\"\"+word+\"\", \"\"+mapping[word]+\"\")\n",
        "    #Remove Punctuations\n",
        "    text = re.sub('[%s]' % re.escape(string.punctuation), '', text)\n",
        "    # creating a space between a word and the punctuation following it\n",
        "    # eg: \"he is a boy.\" => \"he is a boy .\"\n",
        "    text = re.sub(r\"([?.!,¿])\", r\" \\1 \", text)\n",
        "    text = re.sub(r'[\" \"]+', \" \", text)\n",
        "    return text\n",
        "\n",
        "def clean_special_chars(text, punct, mapping):\n",
        "    '''Cleans special characters present(if any)'''   \n",
        "    for p in mapping:\n",
        "        text = text.replace(p, mapping[p])\n",
        "    \n",
        "    for p in punct:\n",
        "        text = text.replace(p, f' {p} ')\n",
        "    \n",
        "    specials = {'\\u200b': ' ', '…': ' ... ', '\\ufeff': '', 'करना': '', 'है': ''}  \n",
        "    for s in specials:\n",
        "        text = text.replace(s, specials[s])\n",
        "    \n",
        "    return text\n",
        "\n",
        "def correct_spelling(x, dic):\n",
        "    '''Corrects common spelling errors'''   \n",
        "    for word in dic.keys():\n",
        "        x = x.replace(word, dic[word])\n",
        "    return x\n",
        "\n",
        "def text_preprocessing_pipeline(text):\n",
        "    '''Cleaning and parsing the text.'''\n",
        "    text = clean_text(text)\n",
        "    text = clean_contractions(text, contraction_mapping)\n",
        "    text = clean_special_chars(text, punct, punct_mapping)\n",
        "    text = correct_spelling(text, mispell_dict)\n",
        "    text = remove_stop(text)\n",
        "    return text\n",
        "\n",
        "\n",
        "def test(text):\n",
        "    text = clean_text(text)\n",
        "    return text"
      ]
    },
    {
      "cell_type": "code",
      "execution_count": null,
      "id": "f7238ace",
      "metadata": {
        "execution": {
          "iopub.execute_input": "2021-12-12T20:14:32.516745Z",
          "iopub.status.busy": "2021-12-12T20:14:32.511525Z",
          "iopub.status.idle": "2021-12-12T20:15:23.645750Z",
          "shell.execute_reply": "2021-12-12T20:15:23.645189Z",
          "shell.execute_reply.started": "2021-12-11T08:36:15.982596Z"
        },
        "id": "f7238ace",
        "papermill": {
          "duration": 51.204488,
          "end_time": "2021-12-12T20:15:23.645898",
          "exception": false,
          "start_time": "2021-12-12T20:14:32.441410",
          "status": "completed"
        },
        "tags": []
      },
      "outputs": [],
      "source": [
        "X = []\n",
        "sentences = list(data[\"text\"])\n",
        "for sen in sentences:\n",
        "    X.append(text_preprocessing_pipeline(sen))\n",
        "\n",
        "y = labels.values"
      ]
    },
    {
      "cell_type": "code",
      "execution_count": null,
      "id": "a4be627d",
      "metadata": {
        "execution": {
          "iopub.execute_input": "2021-12-12T20:15:23.694995Z",
          "iopub.status.busy": "2021-12-12T20:15:23.694128Z",
          "iopub.status.idle": "2021-12-12T20:15:23.696930Z",
          "shell.execute_reply": "2021-12-12T20:15:23.697383Z",
          "shell.execute_reply.started": "2021-12-11T08:37:05.441028Z"
        },
        "id": "a4be627d",
        "outputId": "7cd64faf-b281-428d-a2de-9756f15d35e8",
        "papermill": {
          "duration": 0.030862,
          "end_time": "2021-12-12T20:15:23.697524",
          "exception": false,
          "start_time": "2021-12-12T20:15:23.666662",
          "status": "completed"
        },
        "tags": []
      },
      "outputs": [
        {
          "data": {
            "text/plain": [
              "76654"
            ]
          },
          "execution_count": 13,
          "metadata": {},
          "output_type": "execute_result"
        }
      ],
      "source": [
        "len(y)"
      ]
    },
    {
      "cell_type": "code",
      "execution_count": null,
      "id": "3d8cd36e",
      "metadata": {
        "execution": {
          "iopub.execute_input": "2021-12-12T20:15:23.748999Z",
          "iopub.status.busy": "2021-12-12T20:15:23.748288Z",
          "iopub.status.idle": "2021-12-12T20:15:23.789643Z",
          "shell.execute_reply": "2021-12-12T20:15:23.790052Z",
          "shell.execute_reply.started": "2021-12-11T08:37:05.45096Z"
        },
        "id": "3d8cd36e",
        "papermill": {
          "duration": 0.069303,
          "end_time": "2021-12-12T20:15:23.790225",
          "exception": false,
          "start_time": "2021-12-12T20:15:23.720922",
          "status": "completed"
        },
        "tags": []
      },
      "outputs": [],
      "source": [
        "X_train, X_test, y_train, y_test = train_test_split(X, y, test_size=0.15, random_state=42)"
      ]
    },
    {
      "cell_type": "code",
      "execution_count": null,
      "id": "93195be3",
      "metadata": {
        "execution": {
          "iopub.execute_input": "2021-12-12T20:15:23.861405Z",
          "iopub.status.busy": "2021-12-12T20:15:23.851258Z",
          "iopub.status.idle": "2021-12-12T20:15:25.880387Z",
          "shell.execute_reply": "2021-12-12T20:15:25.879864Z",
          "shell.execute_reply.started": "2021-12-11T08:37:05.504061Z"
        },
        "id": "93195be3",
        "papermill": {
          "duration": 2.068837,
          "end_time": "2021-12-12T20:15:25.880525",
          "exception": false,
          "start_time": "2021-12-12T20:15:23.811688",
          "status": "completed"
        },
        "tags": []
      },
      "outputs": [],
      "source": [
        "tokenizer = Tokenizer(num_words=5000)\n",
        "tokenizer.fit_on_texts(X_train)\n",
        "\n",
        "X_train = tokenizer.texts_to_sequences(X_train)\n",
        "X_test = tokenizer.texts_to_sequences(X_test)\n",
        "\n",
        "vocab_size = len(tokenizer.word_index) + 1\n",
        "\n",
        "maxlen = 200\n",
        "\n",
        "X_train = pad_sequences(X_train, padding='post', maxlen=maxlen)\n",
        "X_test = pad_sequences(X_test, padding='post', maxlen=maxlen)"
      ]
    },
    {
      "cell_type": "code",
      "execution_count": null,
      "id": "118aeab1",
      "metadata": {
        "execution": {
          "iopub.execute_input": "2021-12-12T20:15:25.929671Z",
          "iopub.status.busy": "2021-12-12T20:15:25.928902Z",
          "iopub.status.idle": "2021-12-12T20:15:25.964443Z",
          "shell.execute_reply": "2021-12-12T20:15:25.963915Z",
          "shell.execute_reply.started": "2021-12-11T08:37:07.470853Z"
        },
        "id": "118aeab1",
        "papermill": {
          "duration": 0.06265,
          "end_time": "2021-12-12T20:15:25.964581",
          "exception": false,
          "start_time": "2021-12-12T20:15:25.901931",
          "status": "completed"
        },
        "tags": []
      },
      "outputs": [],
      "source": [
        "# Saving the Tokenizer for later Use\n",
        "with open('./tokenizer.pickle', 'wb') as handle:\n",
        "    pickle.dump(tokenizer, handle, protocol=pickle.HIGHEST_PROTOCOL)"
      ]
    },
    {
      "cell_type": "code",
      "execution_count": null,
      "id": "1ef5bd5e",
      "metadata": {
        "execution": {
          "iopub.execute_input": "2021-12-12T20:15:26.016054Z",
          "iopub.status.busy": "2021-12-12T20:15:26.015562Z",
          "iopub.status.idle": "2021-12-12T20:17:04.346529Z",
          "shell.execute_reply": "2021-12-12T20:17:04.346000Z",
          "shell.execute_reply.started": "2021-12-11T08:37:07.511786Z"
        },
        "id": "1ef5bd5e",
        "papermill": {
          "duration": 98.358771,
          "end_time": "2021-12-12T20:17:04.346683",
          "exception": false,
          "start_time": "2021-12-12T20:15:25.987912",
          "status": "completed"
        },
        "tags": []
      },
      "outputs": [],
      "source": [
        "\"\"\"\n",
        "Building a custom dictionary for all the words in my training dataset\n",
        "The dictionary is a collection of floats that represent different words as per the Glove 6Billion tokens 100 dimension dictionary\n",
        "\"\"\"\n",
        "from numpy import array\n",
        "from numpy import asarray\n",
        "from numpy import zeros\n",
        "\n",
        "embeddings_dictionary = dict()\n",
        "\n",
        "glove_file = open('../input/glove-global-vectors-for-word-representation/glove.twitter.27B.200d.txt', encoding=\"utf8\")\n",
        "\n",
        "for line in glove_file:\n",
        "    records = line.split()\n",
        "    word = records[0]\n",
        "    vector_dimensions = asarray(records[1:], dtype='float32')\n",
        "    embeddings_dictionary[word] = vector_dimensions\n",
        "glove_file.close()\n",
        "\n",
        "embedding_matrix = zeros((vocab_size, 200))\n",
        "for word, index in tokenizer.word_index.items():\n",
        "    embedding_vector = embeddings_dictionary.get(word)\n",
        "    if embedding_vector is not None:\n",
        "        embedding_matrix[index] = embedding_vector"
      ]
    },
    {
      "cell_type": "code",
      "execution_count": null,
      "id": "aadb6fb4",
      "metadata": {
        "execution": {
          "iopub.execute_input": "2021-12-12T20:17:04.392647Z",
          "iopub.status.busy": "2021-12-12T20:17:04.391827Z",
          "iopub.status.idle": "2021-12-12T20:17:04.395746Z",
          "shell.execute_reply": "2021-12-12T20:17:04.396265Z",
          "shell.execute_reply.started": "2021-12-11T08:38:47.055807Z"
        },
        "id": "aadb6fb4",
        "outputId": "f9f56a58-b8c4-4c77-8458-74a1342e51b8",
        "papermill": {
          "duration": 0.028445,
          "end_time": "2021-12-12T20:17:04.396444",
          "exception": false,
          "start_time": "2021-12-12T20:17:04.367999",
          "status": "completed"
        },
        "tags": []
      },
      "outputs": [
        {
          "name": "stdout",
          "output_type": "stream",
          "text": [
            "(32464, 200)\n",
            "32464\n"
          ]
        }
      ],
      "source": [
        "print(embedding_matrix.shape)\n",
        "print(vocab_size)"
      ]
    },
    {
      "cell_type": "code",
      "execution_count": null,
      "id": "cc7e8da9",
      "metadata": {
        "execution": {
          "iopub.execute_input": "2021-12-12T20:17:04.444996Z",
          "iopub.status.busy": "2021-12-12T20:17:04.444447Z",
          "iopub.status.idle": "2021-12-12T20:17:30.379068Z",
          "shell.execute_reply": "2021-12-12T20:17:30.378575Z",
          "shell.execute_reply.started": "2021-12-11T08:38:47.064827Z"
        },
        "id": "cc7e8da9",
        "outputId": "e8f741c6-4242-4838-fb33-7aba3119cf72",
        "papermill": {
          "duration": 25.961545,
          "end_time": "2021-12-12T20:17:30.379203",
          "exception": false,
          "start_time": "2021-12-12T20:17:04.417658",
          "status": "completed"
        },
        "tags": []
      },
      "outputs": [
        {
          "name": "stderr",
          "output_type": "stream",
          "text": [
            "2021-12-12 20:17:04.484532: I tensorflow/stream_executor/cuda/cuda_gpu_executor.cc:937] successful NUMA node read from SysFS had negative value (-1), but there must be at least one NUMA node, so returning NUMA node zero\n",
            "2021-12-12 20:17:04.485702: I tensorflow/stream_executor/cuda/cuda_gpu_executor.cc:937] successful NUMA node read from SysFS had negative value (-1), but there must be at least one NUMA node, so returning NUMA node zero\n",
            "2021-12-12 20:17:04.486381: I tensorflow/stream_executor/cuda/cuda_gpu_executor.cc:937] successful NUMA node read from SysFS had negative value (-1), but there must be at least one NUMA node, so returning NUMA node zero\n",
            "2021-12-12 20:17:04.487146: I tensorflow/core/platform/cpu_feature_guard.cc:142] This TensorFlow binary is optimized with oneAPI Deep Neural Network Library (oneDNN) to use the following CPU instructions in performance-critical operations:  AVX2 AVX512F FMA\n",
            "To enable them in other operations, rebuild TensorFlow with the appropriate compiler flags.\n",
            "2021-12-12 20:17:04.488282: I tensorflow/stream_executor/cuda/cuda_gpu_executor.cc:937] successful NUMA node read from SysFS had negative value (-1), but there must be at least one NUMA node, so returning NUMA node zero\n",
            "2021-12-12 20:17:04.488956: I tensorflow/stream_executor/cuda/cuda_gpu_executor.cc:937] successful NUMA node read from SysFS had negative value (-1), but there must be at least one NUMA node, so returning NUMA node zero\n",
            "2021-12-12 20:17:04.489595: I tensorflow/stream_executor/cuda/cuda_gpu_executor.cc:937] successful NUMA node read from SysFS had negative value (-1), but there must be at least one NUMA node, so returning NUMA node zero\n",
            "2021-12-12 20:17:12.354317: I tensorflow/stream_executor/cuda/cuda_gpu_executor.cc:937] successful NUMA node read from SysFS had negative value (-1), but there must be at least one NUMA node, so returning NUMA node zero\n",
            "2021-12-12 20:17:12.355166: I tensorflow/stream_executor/cuda/cuda_gpu_executor.cc:937] successful NUMA node read from SysFS had negative value (-1), but there must be at least one NUMA node, so returning NUMA node zero\n",
            "2021-12-12 20:17:12.355808: I tensorflow/stream_executor/cuda/cuda_gpu_executor.cc:937] successful NUMA node read from SysFS had negative value (-1), but there must be at least one NUMA node, so returning NUMA node zero\n",
            "2021-12-12 20:17:12.356392: I tensorflow/core/common_runtime/gpu/gpu_device.cc:1510] Created device /job:localhost/replica:0/task:0/device:GPU:0 with 14589 MB memory:  -> device: 0, name: Tesla P100-PCIE-16GB, pci bus id: 0000:00:04.0, compute capability: 6.0\n"
          ]
        }
      ],
      "source": [
        "deep_inputs = Input(shape=(maxlen, ), name='input')\n",
        "embedding_layer = Embedding(vocab_size, 200, embeddings_initializer=tf.keras.initializers.Constant(embedding_matrix), trainable=False)(deep_inputs)\n",
        "LSTM_Bi_Layer_1 = Bidirectional(LSTM(2048, name='lstm_1'))(embedding_layer)\n",
        "dropout = Dropout(0.4, name='drop_1')(LSTM_Bi_Layer_1)\n",
        "dense_layer_1 = Dense(1024, activation='relu', name='dense_1')(dropout)\n",
        "dropout1 = Dropout(0.3, name='drop_2')(dense_layer_1)\n",
        "dense_layer_2 = Dense(512, activation='relu', name='dense_2')(dropout1)\n",
        "dense_layer_3 = Dense(256, activation='relu', name='dense_3')(dense_layer_2)\n",
        "dense_layer_4 = Dense(128, activation='relu', name='dense_4')(dense_layer_3)\n",
        "dense_layer_5 = Dense(7, activation='sigmoid', name='dense_out')(dense_layer_4)\n",
        "model = Model(inputs=deep_inputs, outputs=dense_layer_5)"
      ]
    },
    {
      "cell_type": "code",
      "execution_count": null,
      "id": "086dde37",
      "metadata": {
        "execution": {
          "iopub.execute_input": "2021-12-12T20:17:30.430968Z",
          "iopub.status.busy": "2021-12-12T20:17:30.430181Z",
          "iopub.status.idle": "2021-12-12T20:17:30.435724Z",
          "shell.execute_reply": "2021-12-12T20:17:30.435265Z",
          "shell.execute_reply.started": "2021-12-11T08:39:12.162662Z"
        },
        "id": "086dde37",
        "papermill": {
          "duration": 0.034776,
          "end_time": "2021-12-12T20:17:30.435843",
          "exception": false,
          "start_time": "2021-12-12T20:17:30.401067",
          "status": "completed"
        },
        "tags": []
      },
      "outputs": [],
      "source": [
        "model.compile(loss='binary_crossentropy', optimizer='adam', metrics=['acc'])"
      ]
    },
    {
      "cell_type": "code",
      "execution_count": null,
      "id": "89acab4a",
      "metadata": {
        "execution": {
          "iopub.execute_input": "2021-12-12T20:17:30.482041Z",
          "iopub.status.busy": "2021-12-12T20:17:30.481523Z",
          "iopub.status.idle": "2021-12-12T20:17:30.489993Z",
          "shell.execute_reply": "2021-12-12T20:17:30.490423Z",
          "shell.execute_reply.started": "2021-12-11T08:39:12.178823Z"
        },
        "id": "89acab4a",
        "outputId": "032ea47c-10c1-4ec0-e3fd-a5f883a52690",
        "papermill": {
          "duration": 0.033686,
          "end_time": "2021-12-12T20:17:30.490549",
          "exception": false,
          "start_time": "2021-12-12T20:17:30.456863",
          "status": "completed"
        },
        "tags": []
      },
      "outputs": [
        {
          "name": "stdout",
          "output_type": "stream",
          "text": [
            "Model: \"model\"\n",
            "_________________________________________________________________\n",
            "Layer (type)                 Output Shape              Param #   \n",
            "=================================================================\n",
            "input (InputLayer)           [(None, 200)]             0         \n",
            "_________________________________________________________________\n",
            "embedding (Embedding)        (None, 200, 200)          6492800   \n",
            "_________________________________________________________________\n",
            "bidirectional (Bidirectional (None, 4096)              36847616  \n",
            "_________________________________________________________________\n",
            "drop_1 (Dropout)             (None, 4096)              0         \n",
            "_________________________________________________________________\n",
            "dense_1 (Dense)              (None, 1024)              4195328   \n",
            "_________________________________________________________________\n",
            "drop_2 (Dropout)             (None, 1024)              0         \n",
            "_________________________________________________________________\n",
            "dense_2 (Dense)              (None, 512)               524800    \n",
            "_________________________________________________________________\n",
            "dense_3 (Dense)              (None, 256)               131328    \n",
            "_________________________________________________________________\n",
            "dense_4 (Dense)              (None, 128)               32896     \n",
            "_________________________________________________________________\n",
            "dense_out (Dense)            (None, 7)                 903       \n",
            "=================================================================\n",
            "Total params: 48,225,671\n",
            "Trainable params: 41,732,871\n",
            "Non-trainable params: 6,492,800\n",
            "_________________________________________________________________\n"
          ]
        }
      ],
      "source": [
        "model.summary()"
      ]
    },
    {
      "cell_type": "code",
      "execution_count": null,
      "id": "1576e15a",
      "metadata": {
        "execution": {
          "iopub.execute_input": "2021-12-12T20:17:30.536026Z",
          "iopub.status.busy": "2021-12-12T20:17:30.535336Z",
          "iopub.status.idle": "2021-12-12T20:17:30.537474Z",
          "shell.execute_reply": "2021-12-12T20:17:30.537903Z",
          "shell.execute_reply.started": "2021-12-11T08:39:12.19311Z"
        },
        "id": "1576e15a",
        "papermill": {
          "duration": 0.026603,
          "end_time": "2021-12-12T20:17:30.538017",
          "exception": false,
          "start_time": "2021-12-12T20:17:30.511414",
          "status": "completed"
        },
        "tags": []
      },
      "outputs": [],
      "source": [
        "tf.config.run_functions_eagerly(True)"
      ]
    },
    {
      "cell_type": "code",
      "execution_count": null,
      "id": "3b15d672",
      "metadata": {
        "execution": {
          "iopub.execute_input": "2021-12-12T20:17:30.584230Z",
          "iopub.status.busy": "2021-12-12T20:17:30.583584Z",
          "iopub.status.idle": "2021-12-12T20:17:30.585671Z",
          "shell.execute_reply": "2021-12-12T20:17:30.586049Z",
          "shell.execute_reply.started": "2021-12-11T08:39:12.199129Z"
        },
        "id": "3b15d672",
        "papermill": {
          "duration": 0.027124,
          "end_time": "2021-12-12T20:17:30.586165",
          "exception": false,
          "start_time": "2021-12-12T20:17:30.559041",
          "status": "completed"
        },
        "tags": []
      },
      "outputs": [],
      "source": [
        "# Callbacks\n",
        "checkpoint_cb = tf.keras.callbacks.ModelCheckpoint(\"./smodel.h5\", save_best_only=True, monitor='val_loss')\n",
        "early_stopping_cb = tf.keras.callbacks.EarlyStopping(patience=10, restore_best_weights=True)"
      ]
    },
    {
      "cell_type": "code",
      "execution_count": null,
      "id": "2ff5825c",
      "metadata": {
        "execution": {
          "iopub.execute_input": "2021-12-12T20:17:30.634757Z",
          "iopub.status.busy": "2021-12-12T20:17:30.633900Z",
          "iopub.status.idle": "2021-12-13T00:00:08.278472Z",
          "shell.execute_reply": "2021-12-13T00:00:08.277980Z",
          "shell.execute_reply.started": "2021-12-11T08:39:12.207907Z"
        },
        "id": "2ff5825c",
        "outputId": "a8759e84-7b28-424e-a031-e41f3ad9db72",
        "papermill": {
          "duration": 13357.67108,
          "end_time": "2021-12-13T00:00:08.278616",
          "exception": false,
          "start_time": "2021-12-12T20:17:30.607536",
          "status": "completed"
        },
        "tags": []
      },
      "outputs": [
        {
          "name": "stderr",
          "output_type": "stream",
          "text": [
            "/opt/conda/lib/python3.7/site-packages/tensorflow/python/data/ops/dataset_ops.py:4212: UserWarning: Even though the `tf.config.experimental_run_functions_eagerly` option is set, this option does not apply to tf.data functions. To force eager execution of tf.data functions, please use `tf.data.experimental.enable_debug_mode()`.\n",
            "  \"Even though the `tf.config.experimental_run_functions_eagerly` \"\n",
            "2021-12-12 20:17:30.720862: I tensorflow/compiler/mlir/mlir_graph_optimization_pass.cc:185] None of the MLIR Optimization Passes are enabled (registered 2)\n"
          ]
        },
        {
          "name": "stdout",
          "output_type": "stream",
          "text": [
            "Epoch 1/50\n"
          ]
        },
        {
          "name": "stderr",
          "output_type": "stream",
          "text": [
            "2021-12-12 20:17:31.541466: I tensorflow/stream_executor/cuda/cuda_dnn.cc:369] Loaded cuDNN version 8005\n"
          ]
        },
        {
          "name": "stdout",
          "output_type": "stream",
          "text": [
            "1833/1833 [==============================] - 593s 322ms/step - loss: 0.3512 - acc: 0.3961 - val_loss: 0.3474 - val_acc: 0.3841\n",
            "Epoch 2/50\n",
            "1833/1833 [==============================] - 610s 333ms/step - loss: 0.3036 - acc: 0.4977 - val_loss: 0.2783 - val_acc: 0.5485\n",
            "Epoch 3/50\n",
            "1833/1833 [==============================] - 610s 333ms/step - loss: 0.2680 - acc: 0.5633 - val_loss: 0.2605 - val_acc: 0.5872\n",
            "Epoch 4/50\n",
            "1833/1833 [==============================] - 612s 334ms/step - loss: 0.2643 - acc: 0.5688 - val_loss: 0.2911 - val_acc: 0.5052\n",
            "Epoch 5/50\n",
            "1833/1833 [==============================] - 613s 334ms/step - loss: 0.2722 - acc: 0.5518 - val_loss: 0.2577 - val_acc: 0.5824\n",
            "Epoch 6/50\n",
            "1833/1833 [==============================] - 592s 323ms/step - loss: 0.2464 - acc: 0.6077 - val_loss: 0.2467 - val_acc: 0.6064\n",
            "Epoch 7/50\n",
            "1833/1833 [==============================] - 615s 335ms/step - loss: 0.2385 - acc: 0.6226 - val_loss: 0.2459 - val_acc: 0.6016\n",
            "Epoch 8/50\n",
            "1833/1833 [==============================] - 594s 324ms/step - loss: 0.2355 - acc: 0.6307 - val_loss: 0.2417 - val_acc: 0.6085\n",
            "Epoch 9/50\n",
            "1833/1833 [==============================] - 613s 334ms/step - loss: 0.2305 - acc: 0.6385 - val_loss: 0.2415 - val_acc: 0.6146\n",
            "Epoch 10/50\n",
            "1833/1833 [==============================] - 612s 334ms/step - loss: 0.2267 - acc: 0.6448 - val_loss: 0.2418 - val_acc: 0.6156\n",
            "Epoch 11/50\n",
            "1833/1833 [==============================] - 594s 324ms/step - loss: 0.2238 - acc: 0.6534 - val_loss: 0.2430 - val_acc: 0.6093\n",
            "Epoch 12/50\n",
            "1833/1833 [==============================] - 614s 335ms/step - loss: 0.2161 - acc: 0.6674 - val_loss: 0.2408 - val_acc: 0.6128\n",
            "Epoch 13/50\n",
            "1833/1833 [==============================] - 595s 325ms/step - loss: 0.2070 - acc: 0.6830 - val_loss: 0.2443 - val_acc: 0.6076\n",
            "Epoch 14/50\n",
            "1833/1833 [==============================] - 615s 336ms/step - loss: 0.1943 - acc: 0.7058 - val_loss: 0.2519 - val_acc: 0.6154\n",
            "Epoch 15/50\n",
            "1833/1833 [==============================] - 616s 336ms/step - loss: 0.1802 - acc: 0.7273 - val_loss: 0.2540 - val_acc: 0.6027\n",
            "Epoch 16/50\n",
            "1833/1833 [==============================] - 593s 324ms/step - loss: 0.1660 - acc: 0.7482 - val_loss: 0.2686 - val_acc: 0.5978\n",
            "Epoch 17/50\n",
            "1833/1833 [==============================] - 594s 324ms/step - loss: 0.1504 - acc: 0.7706 - val_loss: 0.2741 - val_acc: 0.5793\n",
            "Epoch 18/50\n",
            "1833/1833 [==============================] - 593s 323ms/step - loss: 0.1384 - acc: 0.7905 - val_loss: 0.3040 - val_acc: 0.5777\n",
            "Epoch 19/50\n",
            "1833/1833 [==============================] - 593s 323ms/step - loss: 0.1272 - acc: 0.8064 - val_loss: 0.3357 - val_acc: 0.5767\n",
            "Epoch 20/50\n",
            "1833/1833 [==============================] - 592s 323ms/step - loss: 0.1182 - acc: 0.8204 - val_loss: 0.3423 - val_acc: 0.5677\n",
            "Epoch 21/50\n",
            "1833/1833 [==============================] - 593s 324ms/step - loss: 0.1102 - acc: 0.8310 - val_loss: 0.3222 - val_acc: 0.5750\n",
            "Epoch 22/50\n",
            "1833/1833 [==============================] - 612s 334ms/step - loss: 0.1070 - acc: 0.8377 - val_loss: 0.3361 - val_acc: 0.5784\n"
          ]
        }
      ],
      "source": [
        "history = model.fit(X_train, y_train, batch_size=32, epochs=50, verbose=1, validation_split=0.1, callbacks=[checkpoint_cb, early_stopping_cb])"
      ]
    },
    {
      "cell_type": "code",
      "execution_count": null,
      "id": "d4d0baef",
      "metadata": {
        "execution": {
          "iopub.execute_input": "2021-12-13T00:00:30.630971Z",
          "iopub.status.busy": "2021-12-13T00:00:30.629671Z",
          "iopub.status.idle": "2021-12-13T00:01:30.920094Z",
          "shell.execute_reply": "2021-12-13T00:01:30.920752Z",
          "shell.execute_reply.started": "2021-12-11T11:14:36.48861Z"
        },
        "id": "d4d0baef",
        "outputId": "803512eb-7944-48d2-be30-65d81897bc8c",
        "papermill": {
          "duration": 71.595034,
          "end_time": "2021-12-13T00:01:30.920991",
          "exception": false,
          "start_time": "2021-12-13T00:00:19.325957",
          "status": "completed"
        },
        "tags": []
      },
      "outputs": [
        {
          "name": "stdout",
          "output_type": "stream",
          "text": [
            "360/360 [==============================] - 38s 106ms/step - loss: 0.2411 - acc: 0.6192\n"
          ]
        }
      ],
      "source": [
        "score = model.evaluate(X_test, y_test, verbose=1)"
      ]
    },
    {
      "cell_type": "code",
      "execution_count": null,
      "id": "c5de5280",
      "metadata": {
        "execution": {
          "iopub.execute_input": "2021-12-13T00:01:54.528021Z",
          "iopub.status.busy": "2021-12-13T00:01:54.526669Z",
          "iopub.status.idle": "2021-12-13T00:01:58.207013Z",
          "shell.execute_reply": "2021-12-13T00:01:58.207495Z",
          "shell.execute_reply.started": "2021-12-11T11:16:12.151954Z"
        },
        "id": "c5de5280",
        "outputId": "022d6c0f-fed8-47ff-8c00-f97b62b8d26b",
        "papermill": {
          "duration": 15.245171,
          "end_time": "2021-12-13T00:01:58.207705",
          "exception": false,
          "start_time": "2021-12-13T00:01:42.962534",
          "status": "completed"
        },
        "tags": []
      },
      "outputs": [
        {
          "data": {
            "image/png": "[encoded data removed]",
            "text/plain": [
              "<Figure size 432x288 with 1 Axes>"
            ]
          },
          "metadata": {
            "needs_background": "light"
          },
          "output_type": "display_data"
        },
        {
          "data": {
            "image/png": "[encoded data removed]",
            "text/plain": [
              "<Figure size 432x288 with 1 Axes>"
            ]
          },
          "metadata": {
            "needs_background": "light"
          },
          "output_type": "display_data"
        }
      ],
      "source": [
        "import matplotlib.pyplot as plt\n",
        "\n",
        "plt.plot(history.history['acc'])\n",
        "plt.plot(history.history['val_acc'])\n",
        "\n",
        "plt.title('model accuracy')\n",
        "plt.ylabel('accuracy')\n",
        "plt.xlabel('epoch')\n",
        "plt.legend(['train','test'], loc='upper left')\n",
        "plt.savefig('./sen_accuracy.png', dpi=1000, bbox_inches=\"tight\")\n",
        "plt.show()\n",
        "\n",
        "plt.plot(history.history['loss'])\n",
        "plt.plot(history.history['val_loss'])\n",
        "\n",
        "plt.title('model loss')\n",
        "plt.ylabel('loss')\n",
        "plt.xlabel('epoch')\n",
        "plt.legend(['train','test'], loc='upper left')\n",
        "plt.savefig('./sen_loss.png', dpi=1000, bbox_inches=\"tight\")\n",
        "plt.show()"
      ]
    }
  ],
  "metadata": {
    "colab": {
      "name": "mental-health.ipynb",
      "provenance": []
    },
    "kernelspec": {
      "display_name": "Python 3",
      "language": "python",
      "name": "python3"
    },
    "language_info": {
      "codemirror_mode": {
        "name": "ipython",
        "version": 3
      },
      "file_extension": ".py",
      "mimetype": "text/x-python",
      "name": "python",
      "nbconvert_exporter": "python",
      "pygments_lexer": "ipython3",
      "version": "3.7.12"
    },
    "papermill": {
      "default_parameters": {},
      "duration": 13706.102931,
      "end_time": "2021-12-13T00:02:37.142620",
      "environment_variables": {},
      "exception": null,
      "input_path": "__notebook__.ipynb",
      "output_path": "__notebook__.ipynb",
      "parameters": {},
      "start_time": "2021-12-12T20:14:11.039689",
      "version": "2.3.3"
    }
  },
  "nbformat": 4,
  "nbformat_minor": 5
}
